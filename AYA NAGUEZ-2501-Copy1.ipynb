{
 "cells": [
  {
   "cell_type": "markdown",
   "metadata": {},
   "source": [
    "# import requests\n",
    "import pandas as pd\n",
    "import numpy as np\n",
    "from requests.packages.urllib3.exceptions import InsecureRequestWarning\n",
    "requests.packages.urllib3.disable_warnings(InsecureRequestWarning)\n",
    "from pandas.io.json import json_normalize\n",
    "import json\n",
    "from pypfopt.efficient_frontier import EfficientFrontier\n",
    "from pypfopt import risk_models\n",
    "from pypfopt import expected_returns\n",
    "import time"
   ]
  },
  {
   "cell_type": "code",
   "execution_count": 2,
   "metadata": {},
   "outputs": [],
   "source": [
    "URL = 'https://dolphin.jump-technology.com:8443/api/v1/' \n",
    "AUTH = ('ESPRIT_GROUPE3', 'KquAg2TDrpUv57Hr') \n",
    "def columns_to_str(columns): \n",
    "    if isinstance(columns, list):\n",
    "        k=\"?columns=\"\n",
    "        for a in columns:\n",
    "            k=k+a+\"&columns=\"\n",
    "        k = k[:-9]\n",
    "        return k\n",
    "def get_data(endpointApi, date=None, full_response=False, columns=list()):\n",
    "    payload = {'date': date }\n",
    "    res = requests.get(URL + endpointApi + columns_to_str(columns),\n",
    "    params=payload,\n",
    "    auth=AUTH,\n",
    "    verify=False) \n",
    "    return res.content.decode('utf-8')"
   ]
  },
  {
   "cell_type": "code",
   "execution_count": 3,
   "metadata": {},
   "outputs": [],
   "source": [
    "def getAssetRatios( ratio=[],asset=[],star_date='2013-06-13',end_date='2019-04-18', full_response=False, columns=list()):\n",
    "    payload = {'ratio': ratio,'asset':asset,'start_date': star_date,'end_date':end_date }\n",
    "    res = requests.post(URL + \"ratio/invoke\" ,\n",
    "    data=str(payload),\n",
    "     headers={'Content-Type': 'application/x-www-form-urlencoded'},\n",
    "    auth=AUTH,\n",
    "    verify=False) \n",
    "    k = res.content.decode('utf-8')\n",
    "    k= json.loads(k)\n",
    "    kk = pd.DataFrame(columns=['ASSET_DATABASE_ID','ratio_id','ratioValue','ratioType'])\n",
    "    for a in asset:\n",
    "        for b in ratio:\n",
    "            kk = kk.append(\n",
    "                pd.DataFrame([ (a,b, str(k[str(a)][str(b)][\"value\"]),str(k[str(a)][str(b)][\"type\"]) )],columns=['ASSET_DATABASE_ID','ratio_id','ratioValue','ratioType']),\n",
    "                ignore_index=True)\n",
    "    return kk"
   ]
  },
  {
   "cell_type": "code",
   "execution_count": null,
   "metadata": {},
   "outputs": [],
   "source": [
    "def getDisponibleRatios():\n",
    "    res = requests.get(URL + \"ratio\" ,\n",
    "    auth=AUTH,\n",
    "    verify=False)\n",
    "    return json_normalize(json.loads(res.content.decode('utf-8')))"
   ]
  },
  {
   "cell_type": "code",
   "execution_count": null,
   "metadata": {},
   "outputs": [],
   "source": [
    "def getAllAssets():\n",
    "    col = list([\"ASSET_DATABASE_ID\",\"LABEL\",\"TYPE\",\"LAST_CLOSE_VALUE\",\"CURRENCY\"])\n",
    "    assets = get_data('asset',columns=col)\n",
    "    jdata = json.loads(assets)\n",
    "    assets = pd.DataFrame.from_dict(json_normalize(jdata), orient='columns')\n",
    "    assets = assets[['ASSET_DATABASE_ID.value','LABEL.value','LAST_CLOSE_VALUE.value','TYPE.value',\"CURRENCY.value\"]]\n",
    "    assets.columns =[\"ASSET_DATABASE_ID\",\"LABEL\",\"LAST_CLOSE_VALUE\",'TYPE',\"CURRENCY\"]\n",
    "    return assets"
   ]
  },
  {
   "cell_type": "code",
   "execution_count": 4,
   "metadata": {},
   "outputs": [],
   "source": [
    "def getAssetCotation(asset_id):\n",
    "    col = list([\"date\",\"asset\",\"nav\",\"gross\",\"pl\",\"close\",\"return\"])\n",
    "    assetC = get_data('asset/'+str(asset_id)+'/quote?start_date=2013-06-14&end_date=2019-04-18')\n",
    "    jdata = json.loads(assetC)\n",
    "    assetC = pd.DataFrame.from_dict(json_normalize(jdata), orient='columns')\n",
    "    assetC = assetC[[\"asset.value\",\"date.value\",\"nav.value\",\"gross.value\",\"pl.value\",\"close.value\",\"return.value\"]]\n",
    "    assetC.columns =[\"asset\",\"date\",\"nav\",\"gross\",\"pl\",\"close\",\"return\"]\n",
    "    return assetC"
   ]
  },
  {
   "cell_type": "code",
   "execution_count": 5,
   "metadata": {},
   "outputs": [],
   "source": [
    "def getAllRatiosForAsset(asset): \n",
    "    ratios = getAssetRatios(ratio=[13,9,12,14,10,8],asset=[asset])[\"ratioValue\"].tolist()\n",
    "    return pd.Series(ratios[0],ratios[1],ratios[2],ratios[3],ratios[4],ratios[5]).astype(np.float)"
   ]
  },
  {
   "cell_type": "code",
   "execution_count": 6,
   "metadata": {},
   "outputs": [],
   "source": [
    "def getAssetWithRAtios(assets):\n",
    "    assetswithRAtio = assets.apply(lambda x : (pd.Series(getAssetRatios(ratio=[13,9,12,14,10,8],asset=[str(x[\"ASSET_DATABASE_ID\"])])[\"ratioValue\"].tolist())),axis =1)\n",
    "    assetswithRAtio.columns = ['Rendement', 'RendementAnnualise', 'Sharpe','VaR_Historique','Volatilite','RDT']\n",
    "    assetswithRAtio = assets.join(assetswithRAtio)\n",
    "    return assetswithRAtio"
   ]
  },
  {
   "cell_type": "code",
   "execution_count": 7,
   "metadata": {},
   "outputs": [],
   "source": [
    "def getAssetRendementAnnualisee( asset=[],ratio=[13],star_date='2013-06-14',end_date='2019-04-18', full_response=False, columns=list()):\n",
    "    kk=pd.DataFrame()\n",
    "    l = list()\n",
    "    payload = {'ratio': ratio,'asset':asset,'benchmark':1,'start_date': star_date,'end_date':end_date }\n",
    "    res = requests.post(URL + \"ratio/invoke\" ,\n",
    "    data=str(payload),\n",
    "    headers={'Content-Type': 'application/x-www-form-urlencoded'},auth=AUTH,verify=False) \n",
    "    k = res.content.decode('utf-8')\n",
    "    k=json.loads(k)\n",
    "    for a in asset:\n",
    "        l.append(str(k[str(a)][\"13\"][\"value\"]))\n",
    "    kk=pd.DataFrame(l,index=asset)\n",
    "    kk[kk.columns] = kk[kk.columns].apply(lambda x: pd.to_numeric(x.astype(str).str.replace(',','.'), errors='coerce'));\n",
    "    return kk"
   ]
  },
  {
   "cell_type": "code",
   "execution_count": 8,
   "metadata": {},
   "outputs": [],
   "source": [
    "def getAssetCorrelation( asset=[],ratio=[11],star_date='2013-06-14',end_date='2019-04-18', full_response=False, columns=list()):\n",
    "    kk = pd.DataFrame()\n",
    "    l = list()\n",
    "    for i in asset:\n",
    "        payload = {'ratio': ratio,'asset':asset,'benchmark':i,'start_date': star_date,'end_date':end_date }\n",
    "        res = requests.post(URL + \"ratio/invoke\" ,\n",
    "        data=str(payload),\n",
    "         headers={'Content-Type': 'application/x-www-form-urlencoded'},\n",
    "        auth=AUTH,\n",
    "        verify=False) \n",
    "        k = res.content.decode('utf-8')\n",
    "        k=json.loads(k)\n",
    "        ls=list()\n",
    "        for a in asset:\n",
    "            ls.append(str(k[str(a)][str(11)][\"value\"]))\n",
    "        l.append(ls)\n",
    "    kk=pd.DataFrame(l,index=asset,columns=asset)\n",
    "    kk[kk.columns] = kk[kk.columns].apply(lambda x: pd.to_numeric(x.astype(str).str.replace(',','.'), errors='coerce'));\n",
    "    return kk"
   ]
  },
  {
   "cell_type": "code",
   "execution_count": 9,
   "metadata": {},
   "outputs": [],
   "source": [
    "def getAssetVolatilite( asset=[],ratio=[10],star_date='2013-06-14',end_date='2019-04-18', full_response=False, columns=list()):\n",
    "    kk=pd.DataFrame()\n",
    "    l = list()\n",
    "    payload = {'ratio': ratio,'asset':asset,'benchmark':1,'start_date': star_date,'end_date':end_date }\n",
    "    res = requests.post(URL + \"ratio/invoke\" ,\n",
    "    data=str(payload),\n",
    "    headers={'Content-Type': 'application/x-www-form-urlencoded'},auth=AUTH,verify=False) \n",
    "    k = res.content.decode('utf-8')\n",
    "    k=json.loads(k)\n",
    "    for a in asset:\n",
    "        r=1\n",
    "        l.append(str(k[str(a)][\"10\"][\"value\"]))\n",
    "    kk=pd.DataFrame(l,index=asset)\n",
    "    kk[kk.columns] = kk[kk.columns].apply(lambda x: pd.to_numeric(x.astype(str).str.replace(',','.'), errors='coerce'));\n",
    "    return kk"
   ]
  },
  {
   "cell_type": "code",
   "execution_count": 10,
   "metadata": {},
   "outputs": [],
   "source": [
    "def is_nan(x):\n",
    "    return (x is np.nan or x != x)"
   ]
  },
  {
   "cell_type": "code",
   "execution_count": 11,
   "metadata": {},
   "outputs": [],
   "source": [
    "def getAssetCovariance(asset=[]):\n",
    "    cor=getAssetCorrelation(asset)\n",
    "    vol=getAssetVolatilite(asset)\n",
    "    for i in cor.columns:\n",
    "        for j in cor.columns:\n",
    "            cor[i][j]=cor[i][j]*np.sqrt(vol[0][i]*vol[0][j])\n",
    "          \n",
    "    return cor"
   ]
  },
  {
   "cell_type": "code",
   "execution_count": 12,
   "metadata": {},
   "outputs": [],
   "source": [
    "def getAssetChangeCur(assets):\n",
    "    l = list()\n",
    "    for i in assets.CURRENCY.to_list():\n",
    "        result = get_data('currency/rate/'+str(i)+'/to/EUR?date=2013-06-14')\n",
    "        value = json.loads(result)['rate']['value'].replace(',','.')\n",
    "        value = float(value)\n",
    "        l.append(value)\n",
    "    return l"
   ]
  },
  {
   "cell_type": "code",
   "execution_count": 13,
   "metadata": {},
   "outputs": [],
   "source": [
    "def elimineNanFromCov(S):\n",
    "    for a in S.index.to_list():\n",
    "        for b in S.columns.to_list():\n",
    "            if(is_nan(S[str(b)][str(a)])):\n",
    "                S[str(b)][str(a)]=0\n",
    "    return S"
   ]
  },
  {
   "cell_type": "code",
   "execution_count": 14,
   "metadata": {},
   "outputs": [],
   "source": [
    "def getAssetCotation(asset_id):\n",
    "    col = list([\"date\",\"asset\",\"nav\",\"gross\",\"pl\",\"close\",\"return\"])\n",
    "    assetC = get_data('asset/'+str(asset_id)+'/quote?start_date=2013-06-14&end_date=2019-04-18')\n",
    "    jdata = json.loads(assetC)\n",
    "    assetC = pd.DataFrame.from_dict(json_normalize(jdata), orient='columns')\n",
    "    assetC = assetC[[\"asset.value\",\"date.value\",\"nav.value\",\"gross.value\",\"pl.value\",\"close.value\",\"return.value\"]]\n",
    "    assetC.columns =[\"asset\",\"date\",\"nav\",\"gross\",\"pl\",\"close\",\"return\"]\n",
    "    return assetC"
   ]
  },
  {
   "cell_type": "code",
   "execution_count": 15,
   "metadata": {},
   "outputs": [],
   "source": [
    "def coursPeriodique(Fasset):\n",
    "    assetC=None\n",
    "    for a in Fasset.index.tolist():\n",
    "        assetC2 = getAssetCotation(a)\n",
    "        assetC2 = assetC2[[\"date\",\"close\"]]\n",
    "        assetC2 = assetC2.set_index('date')\n",
    "        assetC2.columns = [str(a)]\n",
    "        assetC = pd.concat([assetC,assetC2], axis=1,sort=False)\n",
    "    assetC[assetC.columns] = assetC[assetC.columns].apply(lambda x: pd.to_numeric(x.astype(str).str.replace(',','.'), errors='coerce'));\n",
    "    return assetC"
   ]
  },
  {
   "cell_type": "code",
   "execution_count": 16,
   "metadata": {},
   "outputs": [],
   "source": [
    "def coursAction(asset):\n",
    "    l=list()\n",
    "    for a in asset.columns.to_list():\n",
    "        t=None\n",
    "        df = asset[a].to_list()\n",
    "        for i in df:\n",
    "            if (is_nan(i)==False):\n",
    "                l.append(i)\n",
    "                break\n",
    "    return l"
   ]
  },
  {
   "cell_type": "code",
   "execution_count": 17,
   "metadata": {},
   "outputs": [],
   "source": [
    "def cleanDataToPush(Fasset):\n",
    "    df=pd.DataFrame()\n",
    "    df[\"asset\"]=Fasset.ASSET_DATABASE_ID\n",
    "    df[\"quantity\"]=Fasset.quantity\n",
    "    return df"
   ]
  },
  {
   "cell_type": "code",
   "execution_count": 18,
   "metadata": {},
   "outputs": [],
   "source": [
    "def jsonpush(df):\n",
    "    b=pd.DataFrame()\n",
    "    b=pd.concat([b,df.asset],axis=1,sort=False)\n",
    "    b=pd.concat([b,df.quantity],axis=1,sort=False)\n",
    "    b=b.T\n",
    "    a='{\"label\":\"ESPRIT_PTF_3\",\"currency\":{\"code\": \"EUR\"},\"type\": \"front\",\"values\": {\"2013-06-14\": ['\n",
    "    for i in b.columns:\n",
    "        a=a+'{\"asset\" :'+b[i].to_json()+'},'\n",
    "    a=a[0:-1]\n",
    "    a=a+\"]}}\"\n",
    "    return a"
   ]
  },
  {
   "cell_type": "code",
   "execution_count": 19,
   "metadata": {},
   "outputs": [],
   "source": [
    "def push(df):\n",
    "    payload = jsonpush(df)\n",
    "    res = requests.put(URL + \"portfolio/1840/dyn_amount_compo\" ,\n",
    "    data=payload,\n",
    "     headers={'Content-Type': 'application/x-www-form-urlencoded'},\n",
    "    auth=AUTH,\n",
    "    verify=False) \n",
    "    return "
   ]
  },
  {
   "cell_type": "code",
   "execution_count": 20,
   "metadata": {},
   "outputs": [],
   "source": [
    "def getPortfolioSharpe( asset=[1840],ratio=[12],star_date='2013-06-14',end_date='2019-04-18', full_response=False):\n",
    "    payload = {'ratio': ratio,'asset':asset,'benchmark':0,'start_date': star_date,'end_date':end_date }\n",
    "    res = requests.post(URL + \"ratio/invoke\" ,\n",
    "    data=str(payload),\n",
    "    headers={'Content-Type': 'application/x-www-form-urlencoded'},auth=AUTH,verify=False) \n",
    "    k = res.content.decode('utf-8')\n",
    "    k=json.loads(k)\n",
    "    k=float(k[str(1840)][\"12\"][\"value\"].replace(',','.'))\n",
    "    return k"
   ]
  },
  {
   "cell_type": "code",
   "execution_count": 21,
   "metadata": {},
   "outputs": [],
   "source": [
    "def missing_values_table(df):\n",
    "        mis_val = df.isnull().sum()\n",
    "        mis_val_percent = 100 * df.isnull().sum() / len(df)\n",
    "        mis_val_table = pd.concat([mis_val, mis_val_percent], axis=1)\n",
    "        mis_val_table_ren_columns = mis_val_table.rename(\n",
    "        columns = {0 : 'Missing Values', 1 : 'Total'})\n",
    "        mis_val_table_ren_columns = mis_val_table_ren_columns[\n",
    "            mis_val_table_ren_columns.iloc[:,1] != 0].sort_values(\n",
    "        'Total', ascending=False).round(1)\n",
    "        return mis_val_table_ren_columns"
   ]
  },
  {
   "cell_type": "code",
   "execution_count": 22,
   "metadata": {},
   "outputs": [],
   "source": [
    "def portfolioWeights(df):    \n",
    "    start_time = time.time()\n",
    "    mu = expected_returns.mean_historical_return(df)\n",
    "    S = risk_models.sample_cov(df)\n",
    "    # Optimise for maximal Sharpe ratio\n",
    "    ef = EfficientFrontier(mu, S, weight_bounds=(0, 0.095),gamma=1)\n",
    "    raw_weights = ef.max_sharpe()\n",
    "    cleaned_weights = ef.clean_weights()\n",
    "    return cleaned_weights"
   ]
  },
  {
   "cell_type": "code",
   "execution_count": 23,
   "metadata": {},
   "outputs": [],
   "source": [
    "def getcleanhistoric():    \n",
    "    start_time = time.time()\n",
    "    assets = getAllAssets().dropna(0)\n",
    "    actifs = assets[assets.TYPE != \"INDEX\"]\n",
    "    actif=actifs.ASSET_DATABASE_ID.to_list()\n",
    "    assetC=None\n",
    "    for a in actifs.ASSET_DATABASE_ID.tolist():\n",
    "        assetC2 = getAssetCotation(a)\n",
    "        assetC2 = assetC2[[\"date\",\"close\"]]\n",
    "        assetC2 = assetC2.set_index('date')\n",
    "        assetC2.columns = [str(a)]\n",
    "        assetC = pd.concat([assetC,assetC2], axis=1,sort=False)\n",
    "    df=assetC\n",
    "    df[df.columns] = df[df.columns].apply(lambda x: pd.to_numeric(x.astype(str).str.replace(',','.'), errors='coerce'));\n",
    "    df=df.iloc[0:-247].sort_index(axis=0)\n",
    "    N=missing_values_table(df);\n",
    "    GAct=(N[N.Total<45]).index\n",
    "    df=df[GAct]\n",
    "    return df"
   ]
  },
  {
   "cell_type": "code",
   "execution_count": 44,
   "metadata": {},
   "outputs": [],
   "source": [
    "def test(df):\n",
    "    a= portfolioWeights(df)\n",
    "    a=pd.DataFrame.from_dict(a,orient='index')\n",
    "    a.columns=[\"Weights\"]\n",
    "    b=a[a.Weights>0.0095]\n",
    "    b.Weights=b.Weights/b.Weights.sum();\n",
    "    b=b.sort_values(by='Weights',ascending=False);\n",
    "    assets = getAllAssets().dropna(0)\n",
    "    assets.index=assets.ASSET_DATABASE_ID\n",
    "    Fasset=assets.T[b.index.to_list()].T\n",
    "    Fasset[\"CHANGE\"]=getAssetChangeCur(Fasset)\n",
    "    Fasset[\"Weights\"]=b.Weights\n",
    "    Fasset[\"CoursOC\"]=coursAction(coursPeriodique(Fasset))\n",
    "    Fasset[\"quantity\"]=round(Fasset[\"Weights\"]*100000000000/(Fasset[\"CHANGE\"]*Fasset[\"CoursOC\"]));\n",
    "    if(Fasset.Weights[Fasset.TYPE==\"STOCK\"].sum()>0.5):    \n",
    "        push(cleanDataToPush(Fasset))\n",
    "        push(cleanDataToPush(Fasset))\n",
    "        return Fasset"
   ]
  },
  {
   "cell_type": "code",
   "execution_count": null,
   "metadata": {},
   "outputs": [],
   "source": [
    "df=getcleanhistoric()\n",
    "cc=test(df)\n",
    "for i in range(2):\n",
    "    nass=cc.ASSET_DATABASE_ID.count()\n",
    "    waug=0.004\n",
    "    sharp=getPortfolioSharpe()\n",
    "    for a in range(nass):\n",
    "        i=nass-1-a\n",
    "        b=False\n",
    "        cc1=cc\n",
    "        \n",
    "        push(cleanDataToPush(cc))\n",
    "        push(cleanDataToPush(cc))\n",
    "\n",
    "        while(cc1.Weights[i]+waug/(cc1.Weights.sum()+waug)<0.1):\n",
    "\n",
    "            cc1.Weights[i]=cc1.Weights[i]+waug\n",
    "            cc1[\"quantity\"]=round(cc1[\"Weights\"]*10000000/(cc1[\"CHANGE\"]*cc1[\"CoursOC\"]));\n",
    "            push(cleanDataToPush(cc1))\n",
    "            push(cleanDataToPush(cc1))\n",
    "        \n",
    "            if(sharp-getPortfolioSharpe()>0):\n",
    "                cc1.Weights[i]=cc1.Weights[i]-waug\n",
    "                if(b==False):\n",
    "                \n",
    "                    while(cc1.Weights[i]-waug>0):\n",
    "                        cc1.Weights[i]=cc1.Weights[i]-waug\n",
    "                        cc1[\"quantity\"]=round(cc1[\"Weights\"]*10000000/(cc1[\"CHANGE\"]*cc1[\"CoursOC\"]));\n",
    "                        push(cleanDataToPush(cc1))\n",
    "                        push(cleanDataToPush(cc1))\n",
    "                        \n",
    "                        if(sharp-getPortfolioSharpe()>0):\n",
    "                            push(cleanDataToPush(cc))\n",
    "                            push(cleanDataToPush(cc))   \n",
    "                            break\n",
    "                        \n",
    "                        cc=cc1\n",
    "                        sharp=getPortfolioSharpe()\n",
    "              \n",
    "                push(cleanDataToPush(cc))\n",
    "                push(cleanDataToPush(cc))\n",
    "                break\n",
    "        \n",
    "            cc=cc1\n",
    "            b=True\n",
    "            sharp=getPortfolioSharpe()\n",
    "        \n",
    "        push(cleanDataToPush(cc))\n",
    "        push(cleanDataToPush(cc))"
   ]
  },
  {
   "cell_type": "code",
   "execution_count": null,
   "metadata": {},
   "outputs": [],
   "source": [
    "push(cleanDataToPush(cc1[cc1.Weights>0.01]))"
   ]
  }
 ],
 "metadata": {
  "kernelspec": {
   "display_name": "Python 3",
   "language": "python",
   "name": "python3"
  },
  "language_info": {
   "codemirror_mode": {
    "name": "ipython",
    "version": 3
   },
   "file_extension": ".py",
   "mimetype": "text/x-python",
   "name": "python",
   "nbconvert_exporter": "python",
   "pygments_lexer": "ipython3",
   "version": "3.7.4"
  }
 },
 "nbformat": 4,
 "nbformat_minor": 4
}
